{
 "cells": [
  {
   "cell_type": "code",
   "execution_count": 1,
   "metadata": {},
   "outputs": [],
   "source": [
    "import numpy as np\n",
    "import scipy.io as sio\n",
    "import os"
   ]
  },
  {
   "cell_type": "code",
   "execution_count": 2,
   "metadata": {
    "scrolled": true
   },
   "outputs": [],
   "source": [
    "#get number of output folders\n",
    "with open('../system/controlDict') as f:\n",
    "    startTime = \"\"\n",
    "    endTime = \"\"\n",
    "    deltaT = \"\"\n",
    "    writeInterval = \"\"\n",
    "    \n",
    "    for line in f.readlines():\n",
    "        if \"startTime \" in line:\n",
    "            for m in line:\n",
    "                if m.isdigit():\n",
    "                    startTime += m\n",
    "            startTime = int(startTime)\n",
    "        \n",
    "        if \"endTime \" in line:\n",
    "            for m in line:\n",
    "                if m.isdigit():\n",
    "                    endTime += m\n",
    "            endTime = int(endTime)\n",
    " \n",
    "        if \"deltaT \" in line:\n",
    "            for m in line:\n",
    "                if m.isdigit() or m == \".\":\n",
    "                    deltaT += m\n",
    "            deltaT = float(deltaT)\n",
    "\n",
    "        if \"writeInterval \" in line:\n",
    "            for m in line:\n",
    "                if m.isdigit():\n",
    "                    writeInterval += m\n",
    "            writeInterval = int(writeInterval)\n",
    "\n",
    "folderCount = int((endTime - startTime) / deltaT / writeInterval)"
   ]
  },
  {
   "cell_type": "code",
   "execution_count": 3,
   "metadata": {},
   "outputs": [],
   "source": [
    "#get number of data points in output files\n",
    "with open('../1/C') as f:\n",
    "    lineCount = 1\n",
    "    lineTotal = \"\"\n",
    "    \n",
    "    for line in f.readlines():\n",
    "        if \"(\" in line:\n",
    "            lineStart = lineCount\n",
    "            break\n",
    "        lineTotal = line\n",
    "        lineCount += 1\n",
    "    \n",
    "    lineTotal = int(lineTotal)\n",
    "    lineEnd = lineStart + int(lineTotal)"
   ]
  },
  {
   "cell_type": "code",
   "execution_count": 4,
   "metadata": {
    "scrolled": true
   },
   "outputs": [],
   "source": [
    "#get x and y coordinates\n",
    "Cx = []\n",
    "Cy = []\n",
    "\n",
    "with open('../1/C') as f:\n",
    "    lineNum = 1\n",
    "    \n",
    "    for line in f.readlines():\n",
    "        if lineNum > lineStart and lineNum <= lineEnd:\n",
    "            Cx.append(float(line.split()[0][1:]))\n",
    "            Cy.append(float(line.split()[1]))\n",
    "        lineNum += 1\n",
    "\n",
    "Cx_unique = sorted(list(set(Cx)))\n",
    "Cy_unique = sorted(list(set(Cy)))\n",
    "Cx_len = len(Cx_unique)\n",
    "Cy_len = len(Cy_unique)"
   ]
  },
  {
   "cell_type": "code",
   "execution_count": 5,
   "metadata": {},
   "outputs": [],
   "source": [
    "#get total number of output folders\n",
    "dataCount = folderCount + 1\n",
    "count = -1\n",
    "folderList = []\n",
    "\n",
    "for folder in os.scandir('../'):\n",
    "    count += 1\n",
    "    if folder.is_dir() and count <= dataCount:\n",
    "        if folder.name.isnumeric():\n",
    "            folderList.append(int(folder.name))\n",
    "        else:\n",
    "            folderList.append(float(folder.name))\n",
    "        folderList.sort()\n",
    "\n",
    "timeList = [float(i) for i in folderList]\n",
    "folderList = folderList[1:]"
   ]
  },
  {
   "cell_type": "code",
   "execution_count": 6,
   "metadata": {},
   "outputs": [],
   "source": [
    "#prepare array for data\n",
    "u_data = np.zeros((Cx_len, Cy_len, dataCount))\n",
    "v_data = np.zeros((Cx_len, Cy_len, dataCount))\n",
    "p_data = np.zeros((Cx_len, Cy_len, dataCount))"
   ]
  },
  {
   "cell_type": "code",
   "execution_count": 7,
   "metadata": {},
   "outputs": [],
   "source": [
    "#initial\n",
    "arr_0 = np.full((750, 50),0.025)\n",
    "\n",
    "u_data[:,:,0] = arr_0"
   ]
  },
  {
   "cell_type": "code",
   "execution_count": 8,
   "metadata": {},
   "outputs": [],
   "source": [
    "#pressure\n",
    "for i in folderList:\n",
    "    file_name = '../' + str(i) + '/p'\n",
    "    \n",
    "    with open(file_name) as f:\n",
    "        lineNum = 1\n",
    "        p_temp = []\n",
    "\n",
    "        for line in f.readlines():\n",
    "            if lineNum > lineStart and lineNum <= lineEnd:\n",
    "                p_temp.append(float(line))\n",
    "            lineNum += 1\n",
    "\n",
    "    arr_p = np.array(p_temp)\n",
    "    arr_p = np.reshape(arr_p, (Cy_len, Cx_len)).T\n",
    "    \n",
    "    p_data[:,:,i] = arr_p\n",
    "\n",
    "p_data = np.flip(p_data, 0)"
   ]
  },
  {
   "cell_type": "code",
   "execution_count": 9,
   "metadata": {},
   "outputs": [],
   "source": [
    "#velocity\n",
    "for i in folderList:\n",
    "    file_name = '../' + str(i) + '/U'\n",
    "    \n",
    "    with open(file_name) as f:\n",
    "        lineNum = 1\n",
    "        u_temp = []\n",
    "        v_temp = []\n",
    "\n",
    "        for line in f.readlines():\n",
    "            if lineNum > lineStart and lineNum <= lineEnd:\n",
    "                u_temp.append(float(line.split()[0][1:]))\n",
    "                v_temp.append(float(line.split()[1]))\n",
    "            lineNum += 1\n",
    "\n",
    "    arr_u = np.array(u_temp)\n",
    "    arr_u = np.reshape(arr_u, (Cy_len, Cx_len)).T\n",
    "    arr_v = np.array(v_temp)\n",
    "    arr_v = np.reshape(arr_v, (Cy_len, Cx_len)).T\n",
    "    \n",
    "    u_data[:,:,i] = arr_u\n",
    "    v_data[:,:,i] = arr_v\n",
    "    \n",
    "u_data = np.flip(u_data, 0)\n",
    "v_data = np.flip(v_data, 0)"
   ]
  },
  {
   "cell_type": "code",
   "execution_count": 10,
   "metadata": {
    "scrolled": false
   },
   "outputs": [],
   "source": [
    "Cy_unique_dimension = [x+(0.025/2) for x in Cy_unique]\n",
    "\n",
    "t_data = np.array(timeList)\n",
    "x_data = np.array(Cx_unique)\n",
    "y_data = np.array(Cy_unique_dimension)\n",
    "\n",
    "rho = 997\n",
    "p_data *= rho #multiply by rho to convert to kinematic pressure from static pressure"
   ]
  },
  {
   "cell_type": "code",
   "execution_count": 11,
   "metadata": {},
   "outputs": [],
   "source": [
    "#nondimensionalize\n",
    "\n",
    "# rho = 997\n",
    "# mu = 0.001002\n",
    "# U_inf = 0.025\n",
    "# L_norm = 0.025\n",
    "\n",
    "# u_data /= U_inf\n",
    "# v_data /= U_inf\n",
    "# p_data /= (rho*U_inf*U_inf)\n",
    "# t_data = t_data\n",
    "# x_data /= L_norm\n",
    "# y_data /= L_norm"
   ]
  },
  {
   "cell_type": "code",
   "execution_count": 12,
   "metadata": {
    "scrolled": false
   },
   "outputs": [],
   "source": [
    "#export data to .mat\n",
    "sio.savemat('data_CFD_dimension.mat', {'U': u_data, 'V': v_data, 'P': p_data, 't': t_data, 'x': x_data, 'y': y_data})"
   ]
  }
 ],
 "metadata": {
  "kernelspec": {
   "display_name": "Python 3",
   "language": "python",
   "name": "python3"
  },
  "language_info": {
   "codemirror_mode": {
    "name": "ipython",
    "version": 3
   },
   "file_extension": ".py",
   "mimetype": "text/x-python",
   "name": "python",
   "nbconvert_exporter": "python",
   "pygments_lexer": "ipython3",
   "version": "3.8.5"
  }
 },
 "nbformat": 4,
 "nbformat_minor": 4
}
